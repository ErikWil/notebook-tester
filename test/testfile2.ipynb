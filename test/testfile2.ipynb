{
    "cells": [
        {
            "cell_type": "markdown",
            "metadata": {},
            "source": [
                "# Header"
            ]
        },
        {
            "cell_type": "markdown",
            "metadata": {},
            "source": [
                "## Subheader"
            ]
        },
        {
            "cell_type": "code",
            "execution_count": 10,
            "metadata": {
                "test-case": {
                    "name": "one",
                    "result": [
                        "1"
                    ]
                }
            },
            "outputs": [
                {
                    "data": {
                        "text/plain": [
                            "1"
                        ]
                    },
                    "execution_count": 10,
                    "metadata": {},
                    "output_type": "execute_result"
                }
            ],
            "source": [
                "#test-case:one\n",
                "a=1\n",
                "a"
            ]
        },
        {
            "cell_type": "code",
            "execution_count": 11,
            "metadata": {
                "test-case": {
                    "name": "two",
                    "result": [
                        "4"
                    ]
                }
            },
            "outputs": [
                {
                    "ename": "ZeroDivisionError",
                    "evalue": "division by zero",
                    "output_type": "error",
                    "traceback": [
                        "\u001b[1;31m---------------------------------------------------------------------------\u001b[0m",
                        "\u001b[1;31mZeroDivisionError\u001b[0m                         Traceback (most recent call last)",
                        "\u001b[1;32mC:\\Users\\LOCALU~1\\AppData\\Local\\Temp/ipykernel_6820/522417943.py\u001b[0m in \u001b[0;36m<module>\u001b[1;34m\u001b[0m\n\u001b[0;32m      1\u001b[0m \u001b[1;31m#test-case:two\u001b[0m\u001b[1;33m\u001b[0m\u001b[1;33m\u001b[0m\u001b[1;33m\u001b[0m\u001b[0m\n\u001b[1;32m----> 2\u001b[1;33m \u001b[1;36m4\u001b[0m\u001b[1;33m*\u001b[0m\u001b[0ma\u001b[0m\u001b[1;33m+\u001b[0m\u001b[1;36m1\u001b[0m\u001b[1;33m/\u001b[0m\u001b[1;36m0\u001b[0m\u001b[1;33m\u001b[0m\u001b[1;33m\u001b[0m\u001b[0m\n\u001b[0m",
                        "\u001b[1;31mZeroDivisionError\u001b[0m: division by zero"
                    ]
                }
            ],
            "source": [
                "#test-case:two\n",
                "4*a+1/0"
            ]
        },
        {
            "cell_type": "code",
            "execution_count": null,
            "metadata": {},
            "outputs": [],
            "source": [
                "from nbconvert.preprocessors import ExecutePreprocessor, CellExecutionError\n",
                "import nbformat"
            ]
        },
        {
            "cell_type": "code",
            "execution_count": null,
            "metadata": {},
            "outputs": [],
            "source": [
                "with open('testfile.ipynb') as f:\n",
                "        nb = nbformat.read(f, as_version=4)"
            ]
        },
        {
            "cell_type": "code",
            "execution_count": 15,
            "metadata": {},
            "outputs": [
                {
                    "data": {
                        "text/plain": [
                            "[{'cell_type': 'markdown', 'metadata': {}, 'source': '# Header'},\n",
                            " {'cell_type': 'markdown', 'metadata': {}, 'source': '## Subheader'},\n",
                            " {'cell_type': 'code',\n",
                            "  'execution_count': 6,\n",
                            "  'metadata': {'test-case': {'name': 'one', 'result': ['1']}},\n",
                            "  'outputs': [{'data': {'text/plain': '1'},\n",
                            "    'execution_count': 6,\n",
                            "    'metadata': {},\n",
                            "    'output_type': 'execute_result'}],\n",
                            "  'source': '#test-case:one\\na=1\\na'},\n",
                            " {'cell_type': 'code',\n",
                            "  'execution_count': 7,\n",
                            "  'metadata': {'test-case': {'name': 'two', 'result': ['4']}},\n",
                            "  'outputs': [{'data': {'text/plain': '4'},\n",
                            "    'execution_count': 7,\n",
                            "    'metadata': {},\n",
                            "    'output_type': 'execute_result'}],\n",
                            "  'source': '#test-case:two\\n4*a+1'}]"
                        ]
                    },
                    "execution_count": 15,
                    "metadata": {},
                    "output_type": "execute_result"
                }
            ],
            "source": [
                "nb['cells']"
            ]
        }
    ],
    "metadata": {
        "interpreter": {
            "hash": "b9f1142ff856afdc23d98fa670ba0d3e37ee6bd86d28f2d14ad4d8d5f51504c2"
        },
        "kernelspec": {
            "display_name": "Python 3.8.12 64-bit ('opcuawrite': conda)",
            "language": "python",
            "name": "python3"
        },
        "language_info": {
            "codemirror_mode": {
                "name": "ipython",
                "version": 3
            },
            "file_extension": ".py",
            "mimetype": "text/x-python",
            "name": "python",
            "nbconvert_exporter": "python",
            "pygments_lexer": "ipython3",
            "version": "3.8.12"
        },
        "orig_nbformat": 4
    },
    "nbformat": 4,
    "nbformat_minor": 2
}
