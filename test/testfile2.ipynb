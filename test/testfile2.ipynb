{
    "cells": [
        {
            "cell_type": "markdown",
            "metadata": {},
            "source": [
                "# Header"
            ]
        },
        {
            "cell_type": "markdown",
            "metadata": {},
            "source": [
                "## Subheader"
            ]
        },
        {
            "cell_type": "code",
            "execution_count": 2,
            "metadata": {},
            "outputs": [],
            "source": [
                "from nbconvert.preprocessors import ExecutePreprocessor, CellExecutionError\n",
                "import nbformat"
            ]
        },
        {
            "cell_type": "code",
            "execution_count": 15,
            "metadata": {},
            "outputs": [],
            "source": [
                "with open('testfile.ipynb') as f:\n",
                "        nb = nbformat.read(f, as_version=4)"
            ]
        },
        {
            "cell_type": "code",
            "execution_count": 28,
            "metadata": {},
            "outputs": [
                {
                    "data": {
                        "text/plain": [
                            "{'cells': [{'cell_type': 'markdown', 'metadata': {}, 'source': '# Header'},\n",
                            "  {'cell_type': 'code',\n",
                            "   'execution_count': 6,\n",
                            "   'metadata': {},\n",
                            "   'outputs': [],\n",
                            "   'source': 'a=1\\nb=3'},\n",
                            "  {'cell_type': 'code',\n",
                            "   'execution_count': 7,\n",
                            "   'metadata': {'test-case': {'name': 'two', 'result': ['4']}},\n",
                            "   'outputs': [{'data': {'text/plain': '5'},\n",
                            "     'metadata': {},\n",
                            "     'output_type': 'display_data'},\n",
                            "    {'data': {'text/plain': '15'},\n",
                            "     'metadata': {},\n",
                            "     'output_type': 'display_data'}],\n",
                            "   'source': '#test-case:two\\ndisplay(4*a+1)\\ndisplay(b*5)'},\n",
                            "  {'cell_type': 'code',\n",
                            "   'execution_count': 8,\n",
                            "   'metadata': {},\n",
                            "   'outputs': [{'ename': 'ZeroDivisionError',\n",
                            "     'evalue': 'division by zero',\n",
                            "     'output_type': 'error',\n",
                            "     'traceback': ['\\x1b[1;31m---------------------------------------------------------------------------\\x1b[0m',\n",
                            "      '\\x1b[1;31mZeroDivisionError\\x1b[0m                         Traceback (most recent call last)',\n",
                            "      '\\x1b[1;32mC:\\\\Users\\\\LOCALU~1\\\\AppData\\\\Local\\\\Temp/ipykernel_3996/2354412189.py\\x1b[0m in \\x1b[0;36m<module>\\x1b[1;34m\\x1b[0m\\n\\x1b[1;32m----> 1\\x1b[1;33m \\x1b[1;36m1\\x1b[0m\\x1b[1;33m/\\x1b[0m\\x1b[1;36m0\\x1b[0m\\x1b[1;33m\\x1b[0m\\x1b[1;33m\\x1b[0m\\x1b[0m\\n\\x1b[0m',\n",
                            "      '\\x1b[1;31mZeroDivisionError\\x1b[0m: division by zero']}],\n",
                            "   'source': '1/0'}],\n",
                            " 'metadata': {'interpreter': {'hash': 'b9f1142ff856afdc23d98fa670ba0d3e37ee6bd86d28f2d14ad4d8d5f51504c2'},\n",
                            "  'kernelspec': {'display_name': \"Python 3.8.12 64-bit ('opcuawrite': conda)\",\n",
                            "   'language': 'python',\n",
                            "   'name': 'python3'},\n",
                            "  'language_info': {'codemirror_mode': {'name': 'ipython', 'version': 3},\n",
                            "   'file_extension': '.py',\n",
                            "   'mimetype': 'text/x-python',\n",
                            "   'name': 'python',\n",
                            "   'nbconvert_exporter': 'python',\n",
                            "   'pygments_lexer': 'ipython3',\n",
                            "   'version': '3.8.12'}},\n",
                            " 'nbformat': 4,\n",
                            " 'nbformat_minor': 2}"
                        ]
                    },
                    "execution_count": 28,
                    "metadata": {},
                    "output_type": "execute_result"
                }
            ],
            "source": [
                "nb"
            ]
        },
        {
            "cell_type": "code",
            "execution_count": 27,
            "metadata": {},
            "outputs": [
                {
                    "data": {
                        "text/plain": [
                            "'gOp6b5lcl0KHz7w5RWNSnGbvAzjtx9nIYn9zEn43F+/8OeUSNDQFcGUWBDbOoLy4'"
                        ]
                    },
                    "execution_count": 27,
                    "metadata": {},
                    "output_type": "execute_result"
                }
            ],
            "source": [
                "import hashlib, base64\n",
                "h = hashlib.sha384(nb['cells'][0]['source'].encode('utf-8'))\n",
                "base64.b64encode(h.digest()).decode('utf-8')"
            ]
        }
    ],
    "metadata": {
        "interpreter": {
            "hash": "b9f1142ff856afdc23d98fa670ba0d3e37ee6bd86d28f2d14ad4d8d5f51504c2"
        },
        "kernelspec": {
            "display_name": "Python 3.8.12 64-bit ('opcuawrite': conda)",
            "language": "python",
            "name": "python3"
        },
        "language_info": {
            "codemirror_mode": {
                "name": "ipython",
                "version": 3
            },
            "file_extension": ".py",
            "mimetype": "text/x-python",
            "name": "python",
            "nbconvert_exporter": "python",
            "pygments_lexer": "ipython3",
            "version": "3.8.12"
        },
        "orig_nbformat": 4
    },
    "nbformat": 4,
    "nbformat_minor": 2
}
